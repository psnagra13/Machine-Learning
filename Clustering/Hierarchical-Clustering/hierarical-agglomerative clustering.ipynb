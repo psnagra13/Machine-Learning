{
 "cells": [
  {
   "cell_type": "markdown",
   "metadata": {},
   "source": [
    "# Clustering with scikit-learn\n",
    "    \n",
    "##    Algorithm : hierarchical-agglomerative clustering\n",
    "\n",
    "This is a \"bottom-up\" approach: each observation starts in its own cluster, and pairs of clusters are merged as one moves up the hierarchy.\n"
   ]
  },
  {
   "cell_type": "code",
   "execution_count": 43,
   "metadata": {},
   "outputs": [],
   "source": [
    "# Importing the libraries\n",
    "import numpy as np\n",
    "import matplotlib.pyplot as plt\n",
    "import pandas as pd\n",
    "%matplotlib notebook"
   ]
  },
  {
   "cell_type": "code",
   "execution_count": 2,
   "metadata": {},
   "outputs": [],
   "source": [
    "# initialize logger\n",
    "import logging\n",
    "logging.basicConfig(level = logging.INFO,\n",
    "                    format = '%(asctime)s - %(levelname)s - %(message)s')"
   ]
  },
  {
   "cell_type": "markdown",
   "metadata": {},
   "source": [
    "#### Load Data"
   ]
  },
  {
   "cell_type": "code",
   "execution_count": 3,
   "metadata": {},
   "outputs": [
    {
     "name": "stderr",
     "output_type": "stream",
     "text": [
      "2019-01-13 00:57:08,511 - INFO - Dataset Shape : (200, 5)\n"
     ]
    }
   ],
   "source": [
    "# Read Dataset from file\n",
    "dataset = pd.read_csv('Mall_Customers.csv')\n",
    "logging.info('Dataset Shape : ' + str(dataset.shape) )"
   ]
  },
  {
   "cell_type": "code",
   "execution_count": 4,
   "metadata": {},
   "outputs": [
    {
     "data": {
      "text/html": [
       "<div>\n",
       "<style scoped>\n",
       "    .dataframe tbody tr th:only-of-type {\n",
       "        vertical-align: middle;\n",
       "    }\n",
       "\n",
       "    .dataframe tbody tr th {\n",
       "        vertical-align: top;\n",
       "    }\n",
       "\n",
       "    .dataframe thead th {\n",
       "        text-align: right;\n",
       "    }\n",
       "</style>\n",
       "<table border=\"1\" class=\"dataframe\">\n",
       "  <thead>\n",
       "    <tr style=\"text-align: right;\">\n",
       "      <th></th>\n",
       "      <th>CustomerID</th>\n",
       "      <th>Genre</th>\n",
       "      <th>Age</th>\n",
       "      <th>Annual Income (k$)</th>\n",
       "      <th>Spending Score (1-100)</th>\n",
       "    </tr>\n",
       "  </thead>\n",
       "  <tbody>\n",
       "    <tr>\n",
       "      <th>0</th>\n",
       "      <td>1</td>\n",
       "      <td>Male</td>\n",
       "      <td>19</td>\n",
       "      <td>15</td>\n",
       "      <td>39</td>\n",
       "    </tr>\n",
       "    <tr>\n",
       "      <th>1</th>\n",
       "      <td>2</td>\n",
       "      <td>Male</td>\n",
       "      <td>21</td>\n",
       "      <td>15</td>\n",
       "      <td>81</td>\n",
       "    </tr>\n",
       "    <tr>\n",
       "      <th>2</th>\n",
       "      <td>3</td>\n",
       "      <td>Female</td>\n",
       "      <td>20</td>\n",
       "      <td>16</td>\n",
       "      <td>6</td>\n",
       "    </tr>\n",
       "    <tr>\n",
       "      <th>3</th>\n",
       "      <td>4</td>\n",
       "      <td>Female</td>\n",
       "      <td>23</td>\n",
       "      <td>16</td>\n",
       "      <td>77</td>\n",
       "    </tr>\n",
       "    <tr>\n",
       "      <th>4</th>\n",
       "      <td>5</td>\n",
       "      <td>Female</td>\n",
       "      <td>31</td>\n",
       "      <td>17</td>\n",
       "      <td>40</td>\n",
       "    </tr>\n",
       "  </tbody>\n",
       "</table>\n",
       "</div>"
      ],
      "text/plain": [
       "   CustomerID   Genre  Age  Annual Income (k$)  Spending Score (1-100)\n",
       "0           1    Male   19                  15                      39\n",
       "1           2    Male   21                  15                      81\n",
       "2           3  Female   20                  16                       6\n",
       "3           4  Female   23                  16                      77\n",
       "4           5  Female   31                  17                      40"
      ]
     },
     "execution_count": 4,
     "metadata": {},
     "output_type": "execute_result"
    }
   ],
   "source": [
    "dataset.head(5)"
   ]
  },
  {
   "cell_type": "code",
   "execution_count": 5,
   "metadata": {},
   "outputs": [],
   "source": [
    "areMissingValuesPresent = dataset.isnull().values.any()\n",
    "if areMissingValuesPresent:\n",
    "    logging.warning('Missing Values Present in dataset ')"
   ]
  },
  {
   "cell_type": "code",
   "execution_count": 6,
   "metadata": {},
   "outputs": [
    {
     "name": "stderr",
     "output_type": "stream",
     "text": [
      "2019-01-13 00:58:13,548 - INFO - Coloumns : \n",
      "Index(['CustomerID', 'Genre', 'Age', 'Annual Income (k$)',\n",
      "       'Spending Score (1-100)'],\n",
      "      dtype='object')\n"
     ]
    }
   ],
   "source": [
    "logging.info('Coloumns : \\n' + str(dataset.columns) )"
   ]
  },
  {
   "cell_type": "markdown",
   "metadata": {},
   "source": [
    "#### Data Analysis"
   ]
  },
  {
   "cell_type": "code",
   "execution_count": 7,
   "metadata": {},
   "outputs": [
    {
     "data": {
      "text/plain": [
       "<matplotlib.axes._subplots.AxesSubplot at 0x7fa508067e80>"
      ]
     },
     "execution_count": 7,
     "metadata": {},
     "output_type": "execute_result"
    },
    {
     "data": {
      "image/png": "[encoded data removed]",
      "text/plain": [
       "<Figure size 432x288 with 1 Axes>"
      ]
     },
     "metadata": {
      "needs_background": "light"
     },
     "output_type": "display_data"
    }
   ],
   "source": [
    "dataset['Genre'].value_counts().sort_index().plot.bar()"
   ]
  },
  {
   "cell_type": "code",
   "execution_count": 8,
   "metadata": {},
   "outputs": [
    {
     "data": {
      "text/plain": [
       "<matplotlib.axes._subplots.AxesSubplot at 0x7fa505fb4198>"
      ]
     },
     "execution_count": 8,
     "metadata": {},
     "output_type": "execute_result"
    },
    {
     "data": {
      "image/png": "[encoded data removed]",
      "text/plain": [
       "<Figure size 432x288 with 1 Axes>"
      ]
     },
     "metadata": {
      "needs_background": "light"
     },
     "output_type": "display_data"
    }
   ],
   "source": [
    "dataset['Age'].value_counts().sort_index().plot.line()"
   ]
  },
  {
   "cell_type": "code",
   "execution_count": 9,
   "metadata": {},
   "outputs": [
    {
     "data": {
      "text/plain": [
       "<matplotlib.axes._subplots.AxesSubplot at 0x7fa505f25da0>"
      ]
     },
     "execution_count": 9,
     "metadata": {},
     "output_type": "execute_result"
    },
    {
     "data": {
      "image/png": "[encoded data removed]",
      "text/plain": [
       "<Figure size 432x288 with 1 Axes>"
      ]
     },
     "metadata": {
      "needs_background": "light"
     },
     "output_type": "display_data"
    }
   ],
   "source": [
    "dataset['Annual Income (k$)'].value_counts().sort_index().plot.area()"
   ]
  },
  {
   "cell_type": "code",
   "execution_count": 10,
   "metadata": {},
   "outputs": [
    {
     "data": {
      "text/plain": [
       "<matplotlib.axes._subplots.AxesSubplot at 0x7fa505efdd68>"
      ]
     },
     "execution_count": 10,
     "metadata": {},
     "output_type": "execute_result"
    },
    {
     "data": {
      "image/png": "[encoded data removed]",
      "text/plain": [
       "<Figure size 432x288 with 1 Axes>"
      ]
     },
     "metadata": {
      "needs_background": "light"
     },
     "output_type": "display_data"
    }
   ],
   "source": [
    "dataset['Spending Score (1-100)'].value_counts().sort_index().plot.area()"
   ]
  },
  {
   "cell_type": "code",
   "execution_count": 11,
   "metadata": {},
   "outputs": [
    {
     "data": {
      "text/plain": [
       "count    200.000000\n",
       "mean      50.200000\n",
       "std       25.823522\n",
       "min        1.000000\n",
       "25%       34.750000\n",
       "50%       50.000000\n",
       "75%       73.000000\n",
       "max       99.000000\n",
       "Name: Spending Score (1-100), dtype: float64"
      ]
     },
     "execution_count": 11,
     "metadata": {},
     "output_type": "execute_result"
    }
   ],
   "source": [
    "dataset['Spending Score (1-100)'].describe()"
   ]
  },
  {
   "cell_type": "code",
   "execution_count": 12,
   "metadata": {},
   "outputs": [
    {
     "data": {
      "text/plain": [
       "<matplotlib.axes._subplots.AxesSubplot at 0x7fa505ec6390>"
      ]
     },
     "execution_count": 12,
     "metadata": {},
     "output_type": "execute_result"
    },
    {
     "data": {
      "image/png": "[encoded data removed]",
      "text/plain": [
       "<Figure size 432x288 with 1 Axes>"
      ]
     },
     "metadata": {
      "needs_background": "light"
     },
     "output_type": "display_data"
    }
   ],
   "source": [
    "dataset.plot.scatter(x='Age', y='Spending Score (1-100)')"
   ]
  },
  {
   "cell_type": "code",
   "execution_count": 13,
   "metadata": {},
   "outputs": [
    {
     "data": {
      "text/plain": [
       "<matplotlib.axes._subplots.AxesSubplot at 0x7fa505e25d68>"
      ]
     },
     "execution_count": 13,
     "metadata": {},
     "output_type": "execute_result"
    },
    {
     "data": {
      "image/png": "[encoded data removed]",
      "text/plain": [
       "<Figure size 432x288 with 1 Axes>"
      ]
     },
     "metadata": {
      "needs_background": "light"
     },
     "output_type": "display_data"
    }
   ],
   "source": [
    "dataset.plot.scatter(x='Annual Income (k$)', y='Spending Score (1-100)')"
   ]
  },
  {
   "cell_type": "markdown",
   "metadata": {},
   "source": [
    "#### Choosing features for clustering"
   ]
  },
  {
   "cell_type": "code",
   "execution_count": 14,
   "metadata": {},
   "outputs": [
    {
     "name": "stderr",
     "output_type": "stream",
     "text": [
      "2019-01-13 00:58:41,656 - INFO - X Shape : (200, 2)\n"
     ]
    }
   ],
   "source": [
    "X = dataset.iloc[:, [3,4]].values\n",
    "logging.info('X Shape : ' + str(X.shape) )"
   ]
  },
  {
   "cell_type": "markdown",
   "metadata": {},
   "source": [
    "## Using DendoGram to find Optimal number of cluster"
   ]
  },
  {
   "cell_type": "code",
   "execution_count": 26,
   "metadata": {},
   "outputs": [],
   "source": [
    "import  scipy.cluster.hierarchy as sch"
   ]
  },
  {
   "cell_type": "code",
   "execution_count": 30,
   "metadata": {},
   "outputs": [
    {
     "data": {
      "image/png": "[encoded data removed]",
      "text/plain": [
       "<Figure size 432x288 with 1 Axes>"
      ]
     },
     "metadata": {
      "needs_background": "light"
     },
     "output_type": "display_data"
    }
   ],
   "source": [
    "dendogram = sch.dendrogram(sch.linkage(X, method='ward'))\n",
    "plt.title('DendoGram')\n",
    "plt.xlabel('Customers')\n",
    "plt.ylabel('Euclidean Distances')\n",
    "plt.show()"
   ]
  },
  {
   "cell_type": "markdown",
   "metadata": {},
   "source": [
    "#### At around 150-200 if we create a line , we get 5 optimal clusters "
   ]
  },
  {
   "cell_type": "markdown",
   "metadata": {},
   "source": [
    "### Fitting Hierarchical clustering to our dataset"
   ]
  },
  {
   "cell_type": "code",
   "execution_count": 31,
   "metadata": {},
   "outputs": [],
   "source": [
    "from sklearn.cluster import AgglomerativeClustering"
   ]
  },
  {
   "cell_type": "code",
   "execution_count": 32,
   "metadata": {},
   "outputs": [],
   "source": [
    "hc = AgglomerativeClustering(n_clusters=5, affinity='euclidean', linkage='ward')\n",
    "y_hc = hc.fit_predict(X)"
   ]
  },
  {
   "cell_type": "code",
   "execution_count": 36,
   "metadata": {},
   "outputs": [
    {
     "data": {
      "text/html": [
       "<div>\n",
       "<style scoped>\n",
       "    .dataframe tbody tr th:only-of-type {\n",
       "        vertical-align: middle;\n",
       "    }\n",
       "\n",
       "    .dataframe tbody tr th {\n",
       "        vertical-align: top;\n",
       "    }\n",
       "\n",
       "    .dataframe thead th {\n",
       "        text-align: right;\n",
       "    }\n",
       "</style>\n",
       "<table border=\"1\" class=\"dataframe\">\n",
       "  <thead>\n",
       "    <tr style=\"text-align: right;\">\n",
       "      <th></th>\n",
       "      <th>CutomerID</th>\n",
       "      <th>cluster</th>\n",
       "    </tr>\n",
       "  </thead>\n",
       "  <tbody>\n",
       "    <tr>\n",
       "      <th>0</th>\n",
       "      <td>1</td>\n",
       "      <td>4</td>\n",
       "    </tr>\n",
       "    <tr>\n",
       "      <th>1</th>\n",
       "      <td>2</td>\n",
       "      <td>3</td>\n",
       "    </tr>\n",
       "    <tr>\n",
       "      <th>2</th>\n",
       "      <td>3</td>\n",
       "      <td>4</td>\n",
       "    </tr>\n",
       "    <tr>\n",
       "      <th>3</th>\n",
       "      <td>4</td>\n",
       "      <td>3</td>\n",
       "    </tr>\n",
       "    <tr>\n",
       "      <th>4</th>\n",
       "      <td>5</td>\n",
       "      <td>4</td>\n",
       "    </tr>\n",
       "  </tbody>\n",
       "</table>\n",
       "</div>"
      ],
      "text/plain": [
       "   CutomerID  cluster\n",
       "0          1        4\n",
       "1          2        3\n",
       "2          3        4\n",
       "3          4        3\n",
       "4          5        4"
      ]
     },
     "execution_count": 36,
     "metadata": {},
     "output_type": "execute_result"
    }
   ],
   "source": [
    "assignments = pd.DataFrame({'CutomerID':dataset['CustomerID'],'cluster':y_hc})\n",
    "assignments.head(5)"
   ]
  },
  {
   "cell_type": "markdown",
   "metadata": {},
   "source": [
    "## Visualizing Clusters"
   ]
  },
  {
   "cell_type": "code",
   "execution_count": 47,
   "metadata": {},
   "outputs": [
    {
     "data": {
      "application/javascript": [
       "/* Put everything inside the global mpl namespace */\n",
       "window.mpl = {};\n",
       "\n",
       "\n",
       "mpl.get_websocket_type = function() {\n",
       "    if (typeof(WebSocket) !== 'undefined') {\n",
       "        return WebSocket;\n",
       "    } else if (typeof(MozWebSocket) !== 'undefined') {\n",
       "        return MozWebSocket;\n",
       "    } else {\n",
       "        alert('Your browser does not have WebSocket support.' +\n",
       "              'Please try Chrome, Safari or Firefox ≥ 6. ' +\n",
       "              'Firefox 4 and 5 are also supported but you ' +\n",
       "              'have to enable WebSockets in about:config.');\n",
       "    };\n",
       "}\n",
       "\n",
       "mpl.figure = function(figure_id, websocket, ondownload, parent_element) {\n",
       "    this.id = figure_id;\n",
       "\n",
       "    this.ws = websocket;\n",
       "\n",
       "    this.supports_binary = (this.ws.binaryType != undefined);\n",
       "\n",
       "    if (!this.supports_binary) {\n",
       "        var warnings = document.getElementById(\"mpl-warnings\");\n",
       "        if (warnings) {\n",
       "            warnings.style.display = 'block';\n",
       "            warnings.textContent = (\n",
       "                \"This browser does not support binary websocket messages. \" +\n",
       "                    \"Performance may be slow.\");\n",
       "        }\n",
       "    }\n",
       "\n",
       "    this.imageObj = new Image();\n",
       "\n",
       "    this.context = undefined;\n",
       "    this.message = undefined;\n",
       "    this.canvas = undefined;\n",
       "    this.rubberband_canvas = undefined;\n",
       "    this.rubberband_context = undefined;\n",
       "    this.format_dropdown = undefined;\n",
       "\n",
       "    this.image_mode = 'full';\n",
       "\n",
       "    this.root = $('<div/>');\n",
       "    this._root_extra_style(this.root)\n",
       "    this.root.attr('style', 'display: inline-block');\n",
       "\n",
       "    $(parent_element).append(this.root);\n",
       "\n",
       "    this._init_header(this);\n",
       "    this._init_canvas(this);\n",
       "    this._init_toolbar(this);\n",
       "\n",
       "    var fig = this;\n",
       "\n",
       "    this.waiting = false;\n",
       "\n",
       "    this.ws.onopen =  function () {\n",
       "            fig.send_message(\"supports_binary\", {value: fig.supports_binary});\n",
       "            fig.send_message(\"send_image_mode\", {});\n",
       "            if (mpl.ratio != 1) {\n",
       "                fig.send_message(\"set_dpi_ratio\", {'dpi_ratio': mpl.ratio});\n",
       "            }\n",
       "            fig.send_message(\"refresh\", {});\n",
       "        }\n",
       "\n",
       "    this.imageObj.onload = function() {\n",
       "            if (fig.image_mode == 'full') {\n",
       "                // Full images could contain transparency (where diff images\n",
       "                // almost always do), so we need to clear the canvas so that\n",
       "                // there is no ghosting.\n",
       "                fig.context.clearRect(0, 0, fig.canvas.width, fig.canvas.height);\n",
       "            }\n",
       "            fig.context.drawImage(fig.imageObj, 0, 0);\n",
       "        };\n",
       "\n",
       "    this.imageObj.onunload = function() {\n",
       "        fig.ws.close();\n",
       "    }\n",
       "\n",
       "    this.ws.onmessage = this._make_on_message_function(this);\n",
       "\n",
       "    this.ondownload = ondownload;\n",
       "}\n",
       "\n",
       "mpl.figure.prototype._init_header = function() {\n",
       "    var titlebar = $(\n",
       "        '<div class=\"ui-dialog-titlebar ui-widget-header ui-corner-all ' +\n",
       "        'ui-helper-clearfix\"/>');\n",
       "    var titletext = $(\n",
       "        '<div class=\"ui-dialog-title\" style=\"width: 100%; ' +\n",
       "        'text-align: center; padding: 3px;\"/>');\n",
       "    titlebar.append(titletext)\n",
       "    this.root.append(titlebar);\n",
       "    this.header = titletext[0];\n",
       "}\n",
       "\n",
       "\n",
       "\n",
       "mpl.figure.prototype._canvas_extra_style = function(canvas_div) {\n",
       "\n",
       "}\n",
       "\n",
       "\n",
       "mpl.figure.prototype._root_extra_style = function(canvas_div) {\n",
       "\n",
       "}\n",
       "\n",
       "mpl.figure.prototype._init_canvas = function() {\n",
       "    var fig = this;\n",
       "\n",
       "    var canvas_div = $('<div/>');\n",
       "\n",
       "    canvas_div.attr('style', 'position: relative; clear: both; outline: 0');\n",
       "\n",
       "    function canvas_keyboard_event(event) {\n",
       "        return fig.key_event(event, event['data']);\n",
       "    }\n",
       "\n",
       "    canvas_div.keydown('key_press', canvas_keyboard_event);\n",
       "    canvas_div.keyup('key_release', canvas_keyboard_event);\n",
       "    this.canvas_div = canvas_div\n",
       "    this._canvas_extra_style(canvas_div)\n",
       "    this.root.append(canvas_div);\n",
       "\n",
       "    var canvas = $('<canvas/>');\n",
       "    canvas.addClass('mpl-canvas');\n",
       "    canvas.attr('style', \"left: 0; top: 0; z-index: 0; outline: 0\")\n",
       "\n",
       "    this.canvas = canvas[0];\n",
       "    this.context = canvas[0].getContext(\"2d\");\n",
       "\n",
       "    var backingStore = this.context.backingStorePixelRatio ||\n",
       "\tthis.context.webkitBackingStorePixelRatio ||\n",
       "\tthis.context.mozBackingStorePixelRatio ||\n",
       "\tthis.context.msBackingStorePixelRatio ||\n",
       "\tthis.context.oBackingStorePixelRatio ||\n",
       "\tthis.context.backingStorePixelRatio || 1;\n",
       "\n",
       "    mpl.ratio = (window.devicePixelRatio || 1) / backingStore;\n",
       "\n",
       "    var rubberband = $('<canvas/>');\n",
       "    rubberband.attr('style', \"position: absolute; left: 0; top: 0; z-index: 1;\")\n",
       "\n",
       "    var pass_mouse_events = true;\n",
       "\n",
       "    canvas_div.resizable({\n",
       "        start: function(event, ui) {\n",
       "            pass_mouse_events = false;\n",
       "        },\n",
       "        resize: function(event, ui) {\n",
       "            fig.request_resize(ui.size.width, ui.size.height);\n",
       "        },\n",
       "        stop: function(event, ui) {\n",
       "            pass_mouse_events = true;\n",
       "            fig.request_resize(ui.size.width, ui.size.height);\n",
       "        },\n",
       "    });\n",
       "\n",
       "    function mouse_event_fn(event) {\n",
       "        if (pass_mouse_events)\n",
       "            return fig.mouse_event(event, event['data']);\n",
       "    }\n",
       "\n",
       "    rubberband.mousedown('button_press', mouse_event_fn);\n",
       "    rubberband.mouseup('button_release', mouse_event_fn);\n",
       "    // Throttle sequential mouse events to 1 every 20ms.\n",
       "    rubberband.mousemove('motion_notify', mouse_event_fn);\n",
       "\n",
       "    rubberband.mouseenter('figure_enter', mouse_event_fn);\n",
       "    rubberband.mouseleave('figure_leave', mouse_event_fn);\n",
       "\n",
       "    canvas_div.on(\"wheel\", function (event) {\n",
       "        event = event.originalEvent;\n",
       "        event['data'] = 'scroll'\n",
       "        if (event.deltaY < 0) {\n",
       "            event.step = 1;\n",
       "        } else {\n",
       "            event.step = -1;\n",
       "        }\n",
       "        mouse_event_fn(event);\n",
       "    });\n",
       "\n",
       "    canvas_div.append(canvas);\n",
       "    canvas_div.append(rubberband);\n",
       "\n",
       "    this.rubberband = rubberband;\n",
       "    this.rubberband_canvas = rubberband[0];\n",
       "    this.rubberband_context = rubberband[0].getContext(\"2d\");\n",
       "    this.rubberband_context.strokeStyle = \"#000000\";\n",
       "\n",
       "    this._resize_canvas = function(width, height) {\n",
       "        // Keep the size of the canvas, canvas container, and rubber band\n",
       "        // canvas in synch.\n",
       "        canvas_div.css('width', width)\n",
       "        canvas_div.css('height', height)\n",
       "\n",
       "        canvas.attr('width', width * mpl.ratio);\n",
       "        canvas.attr('height', height * mpl.ratio);\n",
       "        canvas.attr('style', 'width: ' + width + 'px; height: ' + height + 'px;');\n",
       "\n",
       "        rubberband.attr('width', width);\n",
       "        rubberband.attr('height', height);\n",
       "    }\n",
       "\n",
       "    // Set the figure to an initial 600x600px, this will subsequently be updated\n",
       "    // upon first draw.\n",
       "    this._resize_canvas(600, 600);\n",
       "\n",
       "    // Disable right mouse context menu.\n",
       "    $(this.rubberband_canvas).bind(\"contextmenu\",function(e){\n",
       "        return false;\n",
       "    });\n",
       "\n",
       "    function set_focus () {\n",
       "        canvas.focus();\n",
       "        canvas_div.focus();\n",
       "    }\n",
       "\n",
       "    window.setTimeout(set_focus, 100);\n",
       "}\n",
       "\n",
       "mpl.figure.prototype._init_toolbar = function() {\n",
       "    var fig = this;\n",
       "\n",
       "    var nav_element = $('<div/>')\n",
       "    nav_element.attr('style', 'width: 100%');\n",
       "    this.root.append(nav_element);\n",
       "\n",
       "    // Define a callback function for later on.\n",
       "    function toolbar_event(event) {\n",
       "        return fig.toolbar_button_onclick(event['data']);\n",
       "    }\n",
       "    function toolbar_mouse_event(event) {\n",
       "        return fig.toolbar_button_onmouseover(event['data']);\n",
       "    }\n",
       "\n",
       "    for(var toolbar_ind in mpl.toolbar_items) {\n",
       "        var name = mpl.toolbar_items[toolbar_ind][0];\n",
       "        var tooltip = mpl.toolbar_items[toolbar_ind][1];\n",
       "        var image = mpl.toolbar_items[toolbar_ind][2];\n",
       "        var method_name = mpl.toolbar_items[toolbar_ind][3];\n",
       "\n",
       "        if (!name) {\n",
       "            // put a spacer in here.\n",
       "            continue;\n",
       "        }\n",
       "        var button = $('<button/>');\n",
       "        button.addClass('ui-button ui-widget ui-state-default ui-corner-all ' +\n",
       "                        'ui-button-icon-only');\n",
       "        button.attr('role', 'button');\n",
       "        button.attr('aria-disabled', 'false');\n",
       "        button.click(method_name, toolbar_event);\n",
       "        button.mouseover(tooltip, toolbar_mouse_event);\n",
       "\n",
       "        var icon_img = $('<span/>');\n",
       "        icon_img.addClass('ui-button-icon-primary ui-icon');\n",
       "        icon_img.addClass(image);\n",
       "        icon_img.addClass('ui-corner-all');\n",
       "\n",
       "        var tooltip_span = $('<span/>');\n",
       "        tooltip_span.addClass('ui-button-text');\n",
       "        tooltip_span.html(tooltip);\n",
       "\n",
       "        button.append(icon_img);\n",
       "        button.append(tooltip_span);\n",
       "\n",
       "        nav_element.append(button);\n",
       "    }\n",
       "\n",
       "    var fmt_picker_span = $('<span/>');\n",
       "\n",
       "    var fmt_picker = $('<select/>');\n",
       "    fmt_picker.addClass('mpl-toolbar-option ui-widget ui-widget-content');\n",
       "    fmt_picker_span.append(fmt_picker);\n",
       "    nav_element.append(fmt_picker_span);\n",
       "    this.format_dropdown = fmt_picker[0];\n",
       "\n",
       "    for (var ind in mpl.extensions) {\n",
       "        var fmt = mpl.extensions[ind];\n",
       "        var option = $(\n",
       "            '<option/>', {selected: fmt === mpl.default_extension}).html(fmt);\n",
       "        fmt_picker.append(option)\n",
       "    }\n",
       "\n",
       "    // Add hover states to the ui-buttons\n",
       "    $( \".ui-button\" ).hover(\n",
       "        function() { $(this).addClass(\"ui-state-hover\");},\n",
       "        function() { $(this).removeClass(\"ui-state-hover\");}\n",
       "    );\n",
       "\n",
       "    var status_bar = $('<span class=\"mpl-message\"/>');\n",
       "    nav_element.append(status_bar);\n",
       "    this.message = status_bar[0];\n",
       "}\n",
       "\n",
       "mpl.figure.prototype.request_resize = function(x_pixels, y_pixels) {\n",
       "    // Request matplotlib to resize the figure. Matplotlib will then trigger a resize in the client,\n",
       "    // which will in turn request a refresh of the image.\n",
       "    this.send_message('resize', {'width': x_pixels, 'height': y_pixels});\n",
       "}\n",
       "\n",
       "mpl.figure.prototype.send_message = function(type, properties) {\n",
       "    properties['type'] = type;\n",
       "    properties['figure_id'] = this.id;\n",
       "    this.ws.send(JSON.stringify(properties));\n",
       "}\n",
       "\n",
       "mpl.figure.prototype.send_draw_message = function() {\n",
       "    if (!this.waiting) {\n",
       "        this.waiting = true;\n",
       "        this.ws.send(JSON.stringify({type: \"draw\", figure_id: this.id}));\n",
       "    }\n",
       "}\n",
       "\n",
       "\n",
       "mpl.figure.prototype.handle_save = function(fig, msg) {\n",
       "    var format_dropdown = fig.format_dropdown;\n",
       "    var format = format_dropdown.options[format_dropdown.selectedIndex].value;\n",
       "    fig.ondownload(fig, format);\n",
       "}\n",
       "\n",
       "\n",
       "mpl.figure.prototype.handle_resize = function(fig, msg) {\n",
       "    var size = msg['size'];\n",
       "    if (size[0] != fig.canvas.width || size[1] != fig.canvas.height) {\n",
       "        fig._resize_canvas(size[0], size[1]);\n",
       "        fig.send_message(\"refresh\", {});\n",
       "    };\n",
       "}\n",
       "\n",
       "mpl.figure.prototype.handle_rubberband = function(fig, msg) {\n",
       "    var x0 = msg['x0'] / mpl.ratio;\n",
       "    var y0 = (fig.canvas.height - msg['y0']) / mpl.ratio;\n",
       "    var x1 = msg['x1'] / mpl.ratio;\n",
       "    var y1 = (fig.canvas.height - msg['y1']) / mpl.ratio;\n",
       "    x0 = Math.floor(x0) + 0.5;\n",
       "    y0 = Math.floor(y0) + 0.5;\n",
       "    x1 = Math.floor(x1) + 0.5;\n",
       "    y1 = Math.floor(y1) + 0.5;\n",
       "    var min_x = Math.min(x0, x1);\n",
       "    var min_y = Math.min(y0, y1);\n",
       "    var width = Math.abs(x1 - x0);\n",
       "    var height = Math.abs(y1 - y0);\n",
       "\n",
       "    fig.rubberband_context.clearRect(\n",
       "        0, 0, fig.canvas.width, fig.canvas.height);\n",
       "\n",
       "    fig.rubberband_context.strokeRect(min_x, min_y, width, height);\n",
       "}\n",
       "\n",
       "mpl.figure.prototype.handle_figure_label = function(fig, msg) {\n",
       "    // Updates the figure title.\n",
       "    fig.header.textContent = msg['label'];\n",
       "}\n",
       "\n",
       "mpl.figure.prototype.handle_cursor = function(fig, msg) {\n",
       "    var cursor = msg['cursor'];\n",
       "    switch(cursor)\n",
       "    {\n",
       "    case 0:\n",
       "        cursor = 'pointer';\n",
       "        break;\n",
       "    case 1:\n",
       "        cursor = 'default';\n",
       "        break;\n",
       "    case 2:\n",
       "        cursor = 'crosshair';\n",
       "        break;\n",
       "    case 3:\n",
       "        cursor = 'move';\n",
       "        break;\n",
       "    }\n",
       "    fig.rubberband_canvas.style.cursor = cursor;\n",
       "}\n",
       "\n",
       "mpl.figure.prototype.handle_message = function(fig, msg) {\n",
       "    fig.message.textContent = msg['message'];\n",
       "}\n",
       "\n",
       "mpl.figure.prototype.handle_draw = function(fig, msg) {\n",
       "    // Request the server to send over a new figure.\n",
       "    fig.send_draw_message();\n",
       "}\n",
       "\n",
       "mpl.figure.prototype.handle_image_mode = function(fig, msg) {\n",
       "    fig.image_mode = msg['mode'];\n",
       "}\n",
       "\n",
       "mpl.figure.prototype.updated_canvas_event = function() {\n",
       "    // Called whenever the canvas gets updated.\n",
       "    this.send_message(\"ack\", {});\n",
       "}\n",
       "\n",
       "// A function to construct a web socket function for onmessage handling.\n",
       "// Called in the figure constructor.\n",
       "mpl.figure.prototype._make_on_message_function = function(fig) {\n",
       "    return function socket_on_message(evt) {\n",
       "        if (evt.data instanceof Blob) {\n",
       "            /* FIXME: We get \"Resource interpreted as Image but\n",
       "             * transferred with MIME type text/plain:\" errors on\n",
       "             * Chrome.  But how to set the MIME type?  It doesn't seem\n",
       "             * to be part of the websocket stream */\n",
       "            evt.data.type = \"image/png\";\n",
       "\n",
       "            /* Free the memory for the previous frames */\n",
       "            if (fig.imageObj.src) {\n",
       "                (window.URL || window.webkitURL).revokeObjectURL(\n",
       "                    fig.imageObj.src);\n",
       "            }\n",
       "\n",
       "            fig.imageObj.src = (window.URL || window.webkitURL).createObjectURL(\n",
       "                evt.data);\n",
       "            fig.updated_canvas_event();\n",
       "            fig.waiting = false;\n",
       "            return;\n",
       "        }\n",
       "        else if (typeof evt.data === 'string' && evt.data.slice(0, 21) == \"data:image/png;base64\") {\n",
       "            fig.imageObj.src = evt.data;\n",
       "            fig.updated_canvas_event();\n",
       "            fig.waiting = false;\n",
       "            return;\n",
       "        }\n",
       "\n",
       "        var msg = JSON.parse(evt.data);\n",
       "        var msg_type = msg['type'];\n",
       "\n",
       "        // Call the  \"handle_{type}\" callback, which takes\n",
       "        // the figure and JSON message as its only arguments.\n",
       "        try {\n",
       "            var callback = fig[\"handle_\" + msg_type];\n",
       "        } catch (e) {\n",
       "            console.log(\"No handler for the '\" + msg_type + \"' message type: \", msg);\n",
       "            return;\n",
       "        }\n",
       "\n",
       "        if (callback) {\n",
       "            try {\n",
       "                // console.log(\"Handling '\" + msg_type + \"' message: \", msg);\n",
       "                callback(fig, msg);\n",
       "            } catch (e) {\n",
       "                console.log(\"Exception inside the 'handler_\" + msg_type + \"' callback:\", e, e.stack, msg);\n",
       "            }\n",
       "        }\n",
       "    };\n",
       "}\n",
       "\n",
       "// from http://stackoverflow.com/questions/1114465/getting-mouse-location-in-canvas\n",
       "mpl.findpos = function(e) {\n",
       "    //this section is from http://www.quirksmode.org/js/events_properties.html\n",
       "    var targ;\n",
       "    if (!e)\n",
       "        e = window.event;\n",
       "    if (e.target)\n",
       "        targ = e.target;\n",
       "    else if (e.srcElement)\n",
       "        targ = e.srcElement;\n",
       "    if (targ.nodeType == 3) // defeat Safari bug\n",
       "        targ = targ.parentNode;\n",
       "\n",
       "    // jQuery normalizes the pageX and pageY\n",
       "    // pageX,Y are the mouse positions relative to the document\n",
       "    // offset() returns the position of the element relative to the document\n",
       "    var x = e.pageX - $(targ).offset().left;\n",
       "    var y = e.pageY - $(targ).offset().top;\n",
       "\n",
       "    return {\"x\": x, \"y\": y};\n",
       "};\n",
       "\n",
       "/*\n",
       " * return a copy of an object with only non-object keys\n",
       " * we need this to avoid circular references\n",
       " * http://stackoverflow.com/a/24161582/3208463\n",
       " */\n",
       "function simpleKeys (original) {\n",
       "  return Object.keys(original).reduce(function (obj, key) {\n",
       "    if (typeof original[key] !== 'object')\n",
       "        obj[key] = original[key]\n",
       "    return obj;\n",
       "  }, {});\n",
       "}\n",
       "\n",
       "mpl.figure.prototype.mouse_event = function(event, name) {\n",
       "    var canvas_pos = mpl.findpos(event)\n",
       "\n",
       "    if (name === 'button_press')\n",
       "    {\n",
       "        this.canvas.focus();\n",
       "        this.canvas_div.focus();\n",
       "    }\n",
       "\n",
       "    var x = canvas_pos.x * mpl.ratio;\n",
       "    var y = canvas_pos.y * mpl.ratio;\n",
       "\n",
       "    this.send_message(name, {x: x, y: y, button: event.button,\n",
       "                             step: event.step,\n",
       "                             guiEvent: simpleKeys(event)});\n",
       "\n",
       "    /* This prevents the web browser from automatically changing to\n",
       "     * the text insertion cursor when the button is pressed.  We want\n",
       "     * to control all of the cursor setting manually through the\n",
       "     * 'cursor' event from matplotlib */\n",
       "    event.preventDefault();\n",
       "    return false;\n",
       "}\n",
       "\n",
       "mpl.figure.prototype._key_event_extra = function(event, name) {\n",
       "    // Handle any extra behaviour associated with a key event\n",
       "}\n",
       "\n",
       "mpl.figure.prototype.key_event = function(event, name) {\n",
       "\n",
       "    // Prevent repeat events\n",
       "    if (name == 'key_press')\n",
       "    {\n",
       "        if (event.which === this._key)\n",
       "            return;\n",
       "        else\n",
       "            this._key = event.which;\n",
       "    }\n",
       "    if (name == 'key_release')\n",
       "        this._key = null;\n",
       "\n",
       "    var value = '';\n",
       "    if (event.ctrlKey && event.which != 17)\n",
       "        value += \"ctrl+\";\n",
       "    if (event.altKey && event.which != 18)\n",
       "        value += \"alt+\";\n",
       "    if (event.shiftKey && event.which != 16)\n",
       "        value += \"shift+\";\n",
       "\n",
       "    value += 'k';\n",
       "    value += event.which.toString();\n",
       "\n",
       "    this._key_event_extra(event, name);\n",
       "\n",
       "    this.send_message(name, {key: value,\n",
       "                             guiEvent: simpleKeys(event)});\n",
       "    return false;\n",
       "}\n",
       "\n",
       "mpl.figure.prototype.toolbar_button_onclick = function(name) {\n",
       "    if (name == 'download') {\n",
       "        this.handle_save(this, null);\n",
       "    } else {\n",
       "        this.send_message(\"toolbar_button\", {name: name});\n",
       "    }\n",
       "};\n",
       "\n",
       "mpl.figure.prototype.toolbar_button_onmouseover = function(tooltip) {\n",
       "    this.message.textContent = tooltip;\n",
       "};\n",
       "mpl.toolbar_items = [[\"Home\", \"Reset original view\", \"fa fa-home icon-home\", \"home\"], [\"Back\", \"Back to previous view\", \"fa fa-arrow-left icon-arrow-left\", \"back\"], [\"Forward\", \"Forward to next view\", \"fa fa-arrow-right icon-arrow-right\", \"forward\"], [\"\", \"\", \"\", \"\"], [\"Pan\", \"Pan axes with left mouse, zoom with right\", \"fa fa-arrows icon-move\", \"pan\"], [\"Zoom\", \"Zoom to rectangle\", \"fa fa-square-o icon-check-empty\", \"zoom\"], [\"\", \"\", \"\", \"\"], [\"Download\", \"Download plot\", \"fa fa-floppy-o icon-save\", \"download\"]];\n",
       "\n",
       "mpl.extensions = [\"eps\", \"jpeg\", \"pdf\", \"png\", \"ps\", \"raw\", \"svg\", \"tif\"];\n",
       "\n",
       "mpl.default_extension = \"png\";var comm_websocket_adapter = function(comm) {\n",
       "    // Create a \"websocket\"-like object which calls the given IPython comm\n",
       "    // object with the appropriate methods. Currently this is a non binary\n",
       "    // socket, so there is still some room for performance tuning.\n",
       "    var ws = {};\n",
       "\n",
       "    ws.close = function() {\n",
       "        comm.close()\n",
       "    };\n",
       "    ws.send = function(m) {\n",
       "        //console.log('sending', m);\n",
       "        comm.send(m);\n",
       "    };\n",
       "    // Register the callback with on_msg.\n",
       "    comm.on_msg(function(msg) {\n",
       "        //console.log('receiving', msg['content']['data'], msg);\n",
       "        // Pass the mpl event to the overridden (by mpl) onmessage function.\n",
       "        ws.onmessage(msg['content']['data'])\n",
       "    });\n",
       "    return ws;\n",
       "}\n",
       "\n",
       "mpl.mpl_figure_comm = function(comm, msg) {\n",
       "    // This is the function which gets called when the mpl process\n",
       "    // starts-up an IPython Comm through the \"matplotlib\" channel.\n",
       "\n",
       "    var id = msg.content.data.id;\n",
       "    // Get hold of the div created by the display call when the Comm\n",
       "    // socket was opened in Python.\n",
       "    var element = $(\"#\" + id);\n",
       "    var ws_proxy = comm_websocket_adapter(comm)\n",
       "\n",
       "    function ondownload(figure, format) {\n",
       "        window.open(figure.imageObj.src);\n",
       "    }\n",
       "\n",
       "    var fig = new mpl.figure(id, ws_proxy,\n",
       "                           ondownload,\n",
       "                           element.get(0));\n",
       "\n",
       "    // Call onopen now - mpl needs it, as it is assuming we've passed it a real\n",
       "    // web socket which is closed, not our websocket->open comm proxy.\n",
       "    ws_proxy.onopen();\n",
       "\n",
       "    fig.parent_element = element.get(0);\n",
       "    fig.cell_info = mpl.find_output_cell(\"<div id='\" + id + \"'></div>\");\n",
       "    if (!fig.cell_info) {\n",
       "        console.error(\"Failed to find cell for figure\", id, fig);\n",
       "        return;\n",
       "    }\n",
       "\n",
       "    var output_index = fig.cell_info[2]\n",
       "    var cell = fig.cell_info[0];\n",
       "\n",
       "};\n",
       "\n",
       "mpl.figure.prototype.handle_close = function(fig, msg) {\n",
       "    var width = fig.canvas.width/mpl.ratio\n",
       "    fig.root.unbind('remove')\n",
       "\n",
       "    // Update the output cell to use the data from the current canvas.\n",
       "    fig.push_to_output();\n",
       "    var dataURL = fig.canvas.toDataURL();\n",
       "    // Re-enable the keyboard manager in IPython - without this line, in FF,\n",
       "    // the notebook keyboard shortcuts fail.\n",
       "    IPython.keyboard_manager.enable()\n",
       "    $(fig.parent_element).html('<img src=\"' + dataURL + '\" width=\"' + width + '\">');\n",
       "    fig.close_ws(fig, msg);\n",
       "}\n",
       "\n",
       "mpl.figure.prototype.close_ws = function(fig, msg){\n",
       "    fig.send_message('closing', msg);\n",
       "    // fig.ws.close()\n",
       "}\n",
       "\n",
       "mpl.figure.prototype.push_to_output = function(remove_interactive) {\n",
       "    // Turn the data on the canvas into data in the output cell.\n",
       "    var width = this.canvas.width/mpl.ratio\n",
       "    var dataURL = this.canvas.toDataURL();\n",
       "    this.cell_info[1]['text/html'] = '<img src=\"' + dataURL + '\" width=\"' + width + '\">';\n",
       "}\n",
       "\n",
       "mpl.figure.prototype.updated_canvas_event = function() {\n",
       "    // Tell IPython that the notebook contents must change.\n",
       "    IPython.notebook.set_dirty(true);\n",
       "    this.send_message(\"ack\", {});\n",
       "    var fig = this;\n",
       "    // Wait a second, then push the new image to the DOM so\n",
       "    // that it is saved nicely (might be nice to debounce this).\n",
       "    setTimeout(function () { fig.push_to_output() }, 1000);\n",
       "}\n",
       "\n",
       "mpl.figure.prototype._init_toolbar = function() {\n",
       "    var fig = this;\n",
       "\n",
       "    var nav_element = $('<div/>')\n",
       "    nav_element.attr('style', 'width: 100%');\n",
       "    this.root.append(nav_element);\n",
       "\n",
       "    // Define a callback function for later on.\n",
       "    function toolbar_event(event) {\n",
       "        return fig.toolbar_button_onclick(event['data']);\n",
       "    }\n",
       "    function toolbar_mouse_event(event) {\n",
       "        return fig.toolbar_button_onmouseover(event['data']);\n",
       "    }\n",
       "\n",
       "    for(var toolbar_ind in mpl.toolbar_items){\n",
       "        var name = mpl.toolbar_items[toolbar_ind][0];\n",
       "        var tooltip = mpl.toolbar_items[toolbar_ind][1];\n",
       "        var image = mpl.toolbar_items[toolbar_ind][2];\n",
       "        var method_name = mpl.toolbar_items[toolbar_ind][3];\n",
       "\n",
       "        if (!name) { continue; };\n",
       "\n",
       "        var button = $('<button class=\"btn btn-default\" href=\"#\" title=\"' + name + '\"><i class=\"fa ' + image + ' fa-lg\"></i></button>');\n",
       "        button.click(method_name, toolbar_event);\n",
       "        button.mouseover(tooltip, toolbar_mouse_event);\n",
       "        nav_element.append(button);\n",
       "    }\n",
       "\n",
       "    // Add the status bar.\n",
       "    var status_bar = $('<span class=\"mpl-message\" style=\"text-align:right; float: right;\"/>');\n",
       "    nav_element.append(status_bar);\n",
       "    this.message = status_bar[0];\n",
       "\n",
       "    // Add the close button to the window.\n",
       "    var buttongrp = $('<div class=\"btn-group inline pull-right\"></div>');\n",
       "    var button = $('<button class=\"btn btn-mini btn-primary\" href=\"#\" title=\"Stop Interaction\"><i class=\"fa fa-power-off icon-remove icon-large\"></i></button>');\n",
       "    button.click(function (evt) { fig.handle_close(fig, {}); } );\n",
       "    button.mouseover('Stop Interaction', toolbar_mouse_event);\n",
       "    buttongrp.append(button);\n",
       "    var titlebar = this.root.find($('.ui-dialog-titlebar'));\n",
       "    titlebar.prepend(buttongrp);\n",
       "}\n",
       "\n",
       "mpl.figure.prototype._root_extra_style = function(el){\n",
       "    var fig = this\n",
       "    el.on(\"remove\", function(){\n",
       "\tfig.close_ws(fig, {});\n",
       "    });\n",
       "}\n",
       "\n",
       "mpl.figure.prototype._canvas_extra_style = function(el){\n",
       "    // this is important to make the div 'focusable\n",
       "    el.attr('tabindex', 0)\n",
       "    // reach out to IPython and tell the keyboard manager to turn it's self\n",
       "    // off when our div gets focus\n",
       "\n",
       "    // location in version 3\n",
       "    if (IPython.notebook.keyboard_manager) {\n",
       "        IPython.notebook.keyboard_manager.register_events(el);\n",
       "    }\n",
       "    else {\n",
       "        // location in version 2\n",
       "        IPython.keyboard_manager.register_events(el);\n",
       "    }\n",
       "\n",
       "}\n",
       "\n",
       "mpl.figure.prototype._key_event_extra = function(event, name) {\n",
       "    var manager = IPython.notebook.keyboard_manager;\n",
       "    if (!manager)\n",
       "        manager = IPython.keyboard_manager;\n",
       "\n",
       "    // Check for shift+enter\n",
       "    if (event.shiftKey && event.which == 13) {\n",
       "        this.canvas_div.blur();\n",
       "        event.shiftKey = false;\n",
       "        // Send a \"J\" for go to next cell\n",
       "        event.which = 74;\n",
       "        event.keyCode = 74;\n",
       "        manager.command_mode();\n",
       "        manager.handle_keydown(event);\n",
       "    }\n",
       "}\n",
       "\n",
       "mpl.figure.prototype.handle_save = function(fig, msg) {\n",
       "    fig.ondownload(fig, null);\n",
       "}\n",
       "\n",
       "\n",
       "mpl.find_output_cell = function(html_output) {\n",
       "    // Return the cell and output element which can be found *uniquely* in the notebook.\n",
       "    // Note - this is a bit hacky, but it is done because the \"notebook_saving.Notebook\"\n",
       "    // IPython event is triggered only after the cells have been serialised, which for\n",
       "    // our purposes (turning an active figure into a static one), is too late.\n",
       "    var cells = IPython.notebook.get_cells();\n",
       "    var ncells = cells.length;\n",
       "    for (var i=0; i<ncells; i++) {\n",
       "        var cell = cells[i];\n",
       "        if (cell.cell_type === 'code'){\n",
       "            for (var j=0; j<cell.output_area.outputs.length; j++) {\n",
       "                var data = cell.output_area.outputs[j];\n",
       "                if (data.data) {\n",
       "                    // IPython >= 3 moved mimebundle to data attribute of output\n",
       "                    data = data.data;\n",
       "                }\n",
       "                if (data['text/html'] == html_output) {\n",
       "                    return [cell, data, j];\n",
       "                }\n",
       "            }\n",
       "        }\n",
       "    }\n",
       "}\n",
       "\n",
       "// Register the function which deals with the matplotlib target/channel.\n",
       "// The kernel may be null if the page has been refreshed.\n",
       "if (IPython.notebook.kernel != null) {\n",
       "    IPython.notebook.kernel.comm_manager.register_target('matplotlib', mpl.mpl_figure_comm);\n",
       "}\n"
      ],
      "text/plain": [
       "<IPython.core.display.Javascript object>"
      ]
     },
     "metadata": {},
     "output_type": "display_data"
    },
    {
     "data": {
      "text/html": [
       "<img src=\"data:image/png;base64,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\" width=\"640\">"
      ],
      "text/plain": [
       "<IPython.core.display.HTML object>"
      ]
     },
     "metadata": {},
     "output_type": "display_data"
    }
   ],
   "source": [
    "# Visualising the clusters\n",
    "plt.scatter(X[y_hc == 0, 0], X[y_hc == 0, 1], s = 100, c = 'red', label = 'Careful')\n",
    "plt.scatter(X[y_hc == 1, 0], X[y_hc == 1, 1], s = 100, c = 'blue', label = 'Standard')\n",
    "plt.scatter(X[y_hc == 2, 0], X[y_hc == 2, 1], s = 100, c = 'green', label = 'Target')\n",
    "plt.scatter(X[y_hc == 3, 0], X[y_hc == 3, 1], s = 100, c = 'cyan', label = 'Careless')\n",
    "plt.scatter(X[y_hc == 4, 0], X[y_hc == 4, 1], s = 100, c = 'magenta', label = 'Sensible')\n",
    "plt.title('Clusters of customers')\n",
    "plt.xlabel('Annual Income (k$)')\n",
    "plt.ylabel('Spending Score (1-100)')\n",
    "plt.legend()\n",
    "plt.show()"
   ]
  },
  {
   "cell_type": "code",
   "execution_count": null,
   "metadata": {},
   "outputs": [],
   "source": []
  },
  {
   "cell_type": "code",
   "execution_count": null,
   "metadata": {},
   "outputs": [],
   "source": []
  },
  {
   "cell_type": "code",
   "execution_count": null,
   "metadata": {},
   "outputs": [],
   "source": []
  },
  {
   "cell_type": "code",
   "execution_count": null,
   "metadata": {},
   "outputs": [],
   "source": []
  },
  {
   "cell_type": "code",
   "execution_count": null,
   "metadata": {},
   "outputs": [],
   "source": []
  }
 ],
 "metadata": {
  "kernelspec": {
   "display_name": "Python 3",
   "language": "python",
   "name": "python3"
  },
  "language_info": {
   "codemirror_mode": {
    "name": "ipython",
    "version": 3
   },
   "file_extension": ".py",
   "mimetype": "text/x-python",
   "name": "python",
   "nbconvert_exporter": "python",
   "pygments_lexer": "ipython3",
   "version": "3.7.0"
  }
 },
 "nbformat": 4,
 "nbformat_minor": 2
}
